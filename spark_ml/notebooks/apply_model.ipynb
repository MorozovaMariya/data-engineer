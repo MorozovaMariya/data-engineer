{
 "cells": [
  {
   "cell_type": "code",
   "execution_count": 1,
   "metadata": {},
   "outputs": [],
   "source": [
    "import org.apache.spark.sql.types.{StructType, StringType}\n",
    "import org.apache.spark.ml.{Pipeline, PipelineModel}\n",
    "import org.apache.spark.sql.functions._\n",
    "import org.apache.spark.sql.DataFrame"
   ]
  },
  {
   "cell_type": "code",
   "execution_count": 2,
   "metadata": {},
   "outputs": [
    {
     "name": "stdout",
     "output_type": "stream",
     "text": [
      "Current spark version is 2.4.5\n"
     ]
    }
   ],
   "source": [
    "println(s\"Current spark version is ${spark.version}\")"
   ]
  },
  {
   "cell_type": "code",
   "execution_count": 3,
   "metadata": {},
   "outputs": [
    {
     "data": {
      "text/plain": [
       "inputStreamPath = /home/jovyan/data/events-stream\n",
       "modelPath = /home/jovyan/models/spark-ml-model\n",
       "dataSchema = StructType(StructField(tweet,StringType,true))\n",
       "inputDF = [tweet: string]\n"
      ]
     },
     "metadata": {},
     "output_type": "display_data"
    },
    {
     "data": {
      "text/plain": [
       "[tweet: string]"
      ]
     },
     "execution_count": 3,
     "metadata": {},
     "output_type": "execute_result"
    }
   ],
   "source": [
    "val inputStreamPath = \"/home/jovyan/data/events-stream\"\n",
    "val modelPath = \"/home/jovyan/models/spark-ml-model\"\n",
    "\n",
    "val dataSchema = new StructType()\n",
    "    .add(\"tweet\", StringType)\n",
    "\n",
    "val inputDF = spark\n",
    "    .readStream\n",
    "    .schema(dataSchema)\n",
    "    .option(\"maxFilesPerTrigger\", 1)\n",
    "    .json(inputStreamPath)"
   ]
  },
  {
   "cell_type": "code",
   "execution_count": 4,
   "metadata": {},
   "outputs": [
    {
     "data": {
      "text/plain": [
       "getProbability = UserDefinedFunction(<function1>,DoubleType,Some(List(org.apache.spark.ml.linalg.VectorUDT@3bfc3ba7)))\n",
       "predictionsDF = [tweet: string]\n",
       "clf = pipeline_72e0eba779e6\n"
      ]
     },
     "metadata": {},
     "output_type": "display_data"
    },
    {
     "data": {
      "text/plain": [
       "org.apache.spark.sql.execution.streaming.StreamingQueryWrapper@6a2b9b1f"
      ]
     },
     "execution_count": 4,
     "metadata": {},
     "output_type": "execute_result"
    },
    {
     "name": "stdout",
     "output_type": "stream",
     "text": [
      "+--------------------+----------+--------------------+\n",
      "|probability_positive|prediction|               tweet|\n",
      "+--------------------+----------+--------------------+\n",
      "|  0.5144744106785156|       1.0|@nick_carter THE ...|\n",
      "| 0.49870081217915585|       0.0|OMG im getting si...|\n",
      "|  0.4998981906985482|       0.0|A great coffee th...|\n",
      "|  0.5172676433669997|       1.0|@TheMandyMoore aw...|\n",
      "|  0.4956454180720865|       0.0|Scottish radio un...|\n",
      "|  0.5301574183838913|       1.0|@fijjybutt get ea...|\n",
      "|  0.5215151259185439|       1.0|Tackling the insp...|\n",
      "| 0.46344600013957865|       0.0|@dbrad86 very sor...|\n",
      "|  0.5144744106785156|       1.0|@OhFerras @MDMOLI...|\n",
      "|  0.5183223687889681|       1.0|So tired now. Bum...|\n",
      "|  0.5142174137459792|       1.0|@Journi Sorry - l...|\n",
      "|  0.4823860400233243|       0.0|I'm craving Sushi...|\n",
      "|  0.5618328516937856|       1.0|Dear Coachella, I...|\n",
      "|   0.536445520749846|       1.0|@BlueEyed_Cat the...|\n",
      "|  0.5616812248098265|       1.0|@gerandclaire Aft...|\n",
      "| 0.43495782893210044|       0.0| im in science cl...|\n",
      "|  0.5144744106785156|       1.0|@dicesix 8 weeks!...|\n",
      "+--------------------+----------+--------------------+\n",
      "\n",
      "+--------------------+----------+--------------------+\n",
      "|probability_positive|prediction|               tweet|\n",
      "+--------------------+----------+--------------------+\n",
      "|  0.5144744106785156|       1.0|@Irma18 lol. cant...|\n",
      "| 0.49211908712730146|       0.0|@mackiedsmif Love...|\n",
      "|  0.4865354410799704|       0.0|@soumyageorge no ...|\n",
      "|  0.5471666853609675|       1.0|Can you brush a d...|\n",
      "|  0.5079832589933295|       1.0|...wish it weren'...|\n",
      "|  0.5144744106785156|       1.0|    I pooped myself |\n",
      "|  0.4377270318681079|       0.0|Oh no! I lost my ...|\n",
      "| 0.42225161484074414|       0.0|i dislike last mi...|\n",
      "| 0.42489813074978056|       0.0|i think my cell p...|\n",
      "|  0.4769800913810777|       0.0|@Jfavreau I still...|\n",
      "|  0.5144744106785156|       1.0| @MissterRay  meanie|\n",
      "|  0.5144744106785156|       1.0|@CollectorManiac ...|\n",
      "|  0.5097792881727895|       1.0|@jdavidclarke tha...|\n",
      "|  0.5144744106785156|       1.0|Unexpected cheque...|\n",
      "|   0.538925929397123|       1.0|@heartbomb I'll t...|\n",
      "|  0.5144744106785156|       1.0|totally feelin it...|\n",
      "|  0.5082814404653254|       1.0|could someone tea...|\n",
      "|  0.5144744106785156|       1.0|@kazman I did not...|\n",
      "+--------------------+----------+--------------------+\n",
      "\n",
      "+--------------------+----------+--------------------+\n",
      "|probability_positive|prediction|               tweet|\n",
      "+--------------------+----------+--------------------+\n",
      "|   0.549084203071887|       1.0|Got up late, aw m...|\n",
      "|  0.5144744106785156|       1.0|@aine_okane i kno...|\n",
      "|  0.4927284112931605|       0.0|@kelseyraeALLday ...|\n",
      "| 0.43034817647453905|       0.0|Why am I so nervo...|\n",
      "|  0.5144744106785156|       1.0|         Who tommie |\n",
      "|  0.4377270318681079|       0.0|I reakly hurt my ...|\n",
      "|  0.4850230340629566|       0.0|Rafa out of Wimbl...|\n",
      "|  0.5079832589933295|       1.0|@BrownGirlPundit ...|\n",
      "|  0.5086947671476382|       1.0|@liljjdagreat hey...|\n",
      "|  0.5144744106785156|       1.0|@yelyahwilliams h...|\n",
      "|  0.4377270318681079|       0.0|i haven't seen my...|\n",
      "|  0.5144744106785156|       1.0|@shahrukhd In the...|\n",
      "|  0.5616812248098265|       1.0|@MelanieHaiken th...|\n",
      "|  0.5094358121915039|       1.0|Watching Inuyasha...|\n",
      "|  0.5148178866598011|       1.0|Leaving for Ben a...|\n",
      "|  0.5616812248098265|       1.0|@sammykh89 thanks...|\n",
      "|   0.536445520749846|       1.0|@thomasart amazin...|\n",
      "+--------------------+----------+--------------------+\n",
      "\n",
      "+--------------------+----------+--------------------+\n",
      "|probability_positive|prediction|               tweet|\n",
      "+--------------------+----------+--------------------+\n",
      "|  0.5144744106785156|       1.0|wow.. the canucks...|\n",
      "| 0.48965233053971957|       0.0|feeling like an o...|\n",
      "|  0.5144744106785156|       1.0|Pissed off. The A...|\n",
      "|  0.4781105538204048|       0.0|i just cant belie...|\n",
      "| 0.49485959221153664|       0.0|is so tired but r...|\n",
      "|  0.5144744106785156|       1.0|omw to skool. ap ...|\n",
      "|  0.4729603291404243|       0.0|Over dosed on red...|\n",
      "|  0.5144744106785156|       1.0|       Ugh and grrr |\n",
      "|  0.5079832589933295|       1.0|gahh, i wish that...|\n",
      "|  0.5144744106785156|       1.0|Onions in   http:...|\n",
      "| 0.45239319820092616|       0.0|@emma_elizabeth w...|\n",
      "|  0.5105142568619464|       1.0|@DonnieWahlberg b...|\n",
      "|  0.5282875229714821|       1.0|@ElizObihFrank Yo...|\n",
      "|  0.4988034567952887|       0.0|@dedmonds Ohhhhh ...|\n",
      "|  0.5144744106785156|       1.0|           @houzhou |\n",
      "|  0.5237587950521858|       1.0|@SuzanneEvans You...|\n",
      "|  0.4434004249901363|       0.0|Successful photo ...|\n",
      "|  0.5144744106785156|       1.0|@timecommander: ....|\n",
      "|  0.5123084155320818|       1.0|@jeanette_kc Haha...|\n",
      "|  0.5144744106785156|       1.0|Shooting &quot;Th...|\n",
      "+--------------------+----------+--------------------+\n",
      "\n",
      "+--------------------+----------+--------------------+\n",
      "|probability_positive|prediction|               tweet|\n",
      "+--------------------+----------+--------------------+\n",
      "|  0.5144744106785156|       1.0|just woke up...fa...|\n",
      "|  0.4980264874480335|       0.0|@Sassette He didn...|\n",
      "| 0.45283755760058675|       0.0|On another note, ...|\n",
      "|  0.5029446605063178|       1.0|Power Yoga   dat ...|\n",
      "| 0.34459324324833907|       0.0|Morn tweeps!! I c...|\n",
      "|  0.5042018204964029|       1.0|I'm ready to go h...|\n",
      "| 0.43602156959656746|       0.0|Why must it be wi...|\n",
      "|  0.4559716452515441|       0.0|So much to do but...|\n",
      "|  0.4811187349835488|       0.0|How is it only 3p...|\n",
      "| 0.42844458505393435|       0.0|@ashbash915 @Sbuc...|\n",
      "|  0.4821199687541687|       0.0|Somebody needs to...|\n",
      "|  0.5471666853609675|       1.0|Really hungry, re...|\n",
      "|  0.4377270318681079|       0.0|I think I have to...|\n",
      "| 0.47344007196630294|       0.0|Twitter i'm sorry...|\n",
      "|  0.5079832589933295|       1.0|@aplusk i have ju...|\n",
      "|  0.5144744106785156|       1.0|Roadtrip was rad ...|\n",
      "|  0.5079832589933295|       1.0|okiee i try nd wa...|\n",
      "|   0.505191963864342|       1.0|makes a run for i...|\n",
      "|   0.420983011552051|       0.0|Oh my gosh. My mo...|\n",
      "|  0.5042018204964029|       1.0|Go go go! Check s...|\n",
      "+--------------------+----------+--------------------+\n",
      "only showing top 20 rows\n",
      "\n"
     ]
    }
   ],
   "source": [
    "val getProbability = udf((prediction: org.apache.spark.ml.linalg.Vector) => prediction(1))\n",
    "\n",
    "val predictionsDF: DataFrame = inputDF\n",
    "\n",
    "val clf = PipelineModel.load(\"/home/jovyan/models/spark-ml-model\")\n",
    "\n",
    "predictionsDF.writeStream.foreachBatch { (batchDF: DataFrame, batchId: Long) =>\n",
    "    clf\n",
    "    .transform(batchDF)\n",
    "    .select(getProbability('probability).alias(\"probability_positive\"), 'prediction, 'tweet)\n",
    "    .show\n",
    "}.start()"
   ]
  },
  {
   "cell_type": "code",
   "execution_count": 5,
   "metadata": {},
   "outputs": [],
   "source": [
    "spark.stop()"
   ]
  },
  {
   "cell_type": "code",
   "execution_count": null,
   "metadata": {},
   "outputs": [],
   "source": []
  }
 ],
 "metadata": {
  "kernelspec": {
   "display_name": "Apache Toree - Scala",
   "language": "scala",
   "name": "apache_toree_scala"
  },
  "language_info": {
   "codemirror_mode": "text/x-scala",
   "file_extension": ".scala",
   "mimetype": "text/x-scala",
   "name": "scala",
   "pygments_lexer": "scala",
   "version": "2.11.12"
  }
 },
 "nbformat": 4,
 "nbformat_minor": 4
}
